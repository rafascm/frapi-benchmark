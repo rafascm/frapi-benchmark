{
 "cells": [
  {
   "cell_type": "markdown",
   "id": "medical-genius",
   "metadata": {},
   "source": [
    "# Techcore Experience\n",
    "\n",
    "---\n",
    "\n",
    "## frAPI Benchmark"
   ]
  },
  {
   "cell_type": "code",
   "execution_count": 1,
   "id": "recorded-affect",
   "metadata": {},
   "outputs": [],
   "source": [
    "import time\n",
    "import glob\n",
    "import base64\n",
    "import asyncio\n",
    "import numpy as np\n",
    "import requests as req\n",
    "from pathlib import Path\n",
    "import matplotlib.pyplot as plt"
   ]
  },
  {
   "cell_type": "markdown",
   "id": "gross-liability",
   "metadata": {},
   "source": [
    "### Checking connection status from frAPI"
   ]
  },
  {
   "cell_type": "code",
   "execution_count": 2,
   "id": "occasional-observation",
   "metadata": {},
   "outputs": [
    {
     "name": "stdout",
     "output_type": "stream",
     "text": [
      "<Response [200]>\n"
     ]
    }
   ],
   "source": [
    "resp = req.get('http://35.237.84.73/frapi/status')\n",
    "print(resp)"
   ]
  },
  {
   "cell_type": "markdown",
   "id": "appreciated-velvet",
   "metadata": {},
   "source": [
    "---\n",
    "#  Defining functions"
   ]
  },
  {
   "cell_type": "code",
   "execution_count": 5,
   "id": "alike-netherlands",
   "metadata": {},
   "outputs": [],
   "source": [
    "def get_base64(image_path):\n",
    "    with open(image_path, 'rb') as img_file:\n",
    "        return base64.b64encode(img_file.read()).decode('utf-8')"
   ]
  },
  {
   "cell_type": "code",
   "execution_count": 6,
   "id": "communist-chest",
   "metadata": {},
   "outputs": [],
   "source": [
    "def image_num(id):\n",
    "    num = int(id)\n",
    "    if num < 10:\n",
    "        return f'000{num}'\n",
    "    elif num < 100:\n",
    "        return f'00{num}'\n",
    "    else:\n",
    "        return num"
   ]
  },
  {
   "cell_type": "code",
   "execution_count": 7,
   "id": "adjacent-solution",
   "metadata": {},
   "outputs": [],
   "source": [
    "def img_name(name, id):\n",
    "    return f'{name}_{image_num(id)}.jpg'"
   ]
  },
  {
   "cell_type": "code",
   "execution_count": 8,
   "id": "residential-canada",
   "metadata": {},
   "outputs": [],
   "source": [
    "def img_path_matched_pair(pair):\n",
    "    first_name = img_name(pair[0], pair[1])\n",
    "    second_name = img_name(pair[0], pair[2])\n",
    "    \n",
    "    first_path = Path(Path('dataset'), pair[0], first_name)\n",
    "    second_path = Path(Path('dataset'), pair[0], second_name)\n",
    "    \n",
    "    return first_path, second_path"
   ]
  },
  {
   "cell_type": "code",
   "execution_count": 9,
   "id": "steady-illness",
   "metadata": {},
   "outputs": [],
   "source": [
    "def img_path_mismatched_pair(pair):\n",
    "    first_name = img_name(pair[0], pair[1])\n",
    "    second_name = img_name(pair[2], pair[3])\n",
    "    \n",
    "    first_path = Path(Path('dataset'), pair[0], first_name)\n",
    "    second_path = Path(Path('dataset'), pair[2], second_name)\n",
    "    \n",
    "    return first_path, second_path"
   ]
  },
  {
   "cell_type": "code",
   "execution_count": 10,
   "id": "divine-edition",
   "metadata": {},
   "outputs": [],
   "source": [
    "def get_matched_pairs_similarity_scores(matched_pairs):\n",
    "    scores = []\n",
    "    \n",
    "    print('Loading...')\n",
    "    \n",
    "    for pair in matched_pairs:\n",
    "        first_path, second_path = img_path_matched_pair(pair)\n",
    "\n",
    "        req_body = {\n",
    "            'image_b641': get_base64(first_path),\n",
    "            'image_b642': get_base64(second_path),\n",
    "        }\n",
    "\n",
    "        resp = req.post('http://35.237.84.73/frapi/verify/images', json = req_body)\n",
    "        scores.append(resp.json()['similarity_score'])\n",
    "    \n",
    "    print('Done...')\n",
    "    return scores"
   ]
  },
  {
   "cell_type": "code",
   "execution_count": 11,
   "id": "universal-eating",
   "metadata": {},
   "outputs": [],
   "source": [
    "def get_mismatched_pairs_similarity_scores(mismatched_pairs):\n",
    "    scores = []\n",
    "    print('Loading...')\n",
    "    \n",
    "    for pair in mismatched_pairs:\n",
    "        first_path, second_path = img_path_mismatched_pair(pair)\n",
    "\n",
    "        req_body = {\n",
    "            'image_b641': get_base64(first_path),\n",
    "            'image_b642': get_base64(second_path)\n",
    "        }\n",
    "        \n",
    "        resp = req.post('http://35.237.84.73/frapi/verify/images', json = req_body)\n",
    "        scores.append(resp.json()['similarity_score'])\n",
    "    \n",
    "    print('Done...')\n",
    "    return scores"
   ]
  },
  {
   "cell_type": "code",
   "execution_count": 49,
   "id": "entitled-relations",
   "metadata": {},
   "outputs": [],
   "source": [
    "def array_file(arr, fname):\n",
    "    file = open(f'{fname}.txt', 'w')\n",
    "    np.savetxt(file, arr)\n",
    "    file.close()"
   ]
  },
  {
   "cell_type": "code",
   "execution_count": 12,
   "id": "canadian-venice",
   "metadata": {},
   "outputs": [],
   "source": [
    "def min_max(arr):\n",
    "    min = arr[0]\n",
    "    max = arr[0]\n",
    "\n",
    "    for num in arr:\n",
    "        if num < min:\n",
    "            min = num\n",
    "        elif num > max:\n",
    "            max = num;\n",
    "    return min, max"
   ]
  },
  {
   "cell_type": "code",
   "execution_count": 13,
   "id": "proud-desperate",
   "metadata": {},
   "outputs": [],
   "source": [
    "def normalize(arr):\n",
    "    min, max = min_max(arr)\n",
    "\n",
    "    res = []\n",
    "    for num in arr:\n",
    "        res.append((num - min) / (max - min))\n",
    "\n",
    "    return res"
   ]
  },
  {
   "cell_type": "markdown",
   "id": "varying-champagne",
   "metadata": {},
   "source": [
    "### Loading arrays"
   ]
  },
  {
   "cell_type": "markdown",
   "id": "sitting-venture",
   "metadata": {},
   "source": [
    "using original mismatched_pairs.txt, Chen_Tsai-chin-1-Mamouh_Habib-1 line 95 returned an error with no similarity_score attribute on reponse. had to change to something random (Georgia_Giddings) to work"
   ]
  },
  {
   "cell_type": "code",
   "execution_count": 14,
   "id": "large-madrid",
   "metadata": {},
   "outputs": [],
   "source": [
    "matched_pairs = np.loadtxt(Path('matched_pairs.txt'), dtype='str')\n",
    "mismatched_pairs = np.loadtxt(Path('mismatched_pairs.txt'), dtype='str')"
   ]
  },
  {
   "cell_type": "markdown",
   "id": "stable-radical",
   "metadata": {},
   "source": [
    "It takes around 5min to complete all 300 requests and populate ***matched_pairs_scores*** array"
   ]
  },
  {
   "cell_type": "code",
   "execution_count": 21,
   "id": "sudden-pilot",
   "metadata": {},
   "outputs": [
    {
     "name": "stdout",
     "output_type": "stream",
     "text": [
      "Loading...\n",
      "Done...\n",
      "Elapsed time: 295s\n",
      "Score array length:  300\n"
     ]
    }
   ],
   "source": [
    "start = time.time()\n",
    "matched_pairs_scores = get_matched_pairs_similarity_scores(matched_pairs)\n",
    "elapsed = time.time() - start\n",
    "\n",
    "print(f'Elapsed time: {int(elapsed)}s')\n",
    "print('Score array length: ', len(matched_pairs_scores))"
   ]
  },
  {
   "cell_type": "code",
   "execution_count": 30,
   "id": "racial-maple",
   "metadata": {},
   "outputs": [
    {
     "name": "stdout",
     "output_type": "stream",
     "text": [
      "Loading...\n",
      "Done...\n",
      "Elapsed time: 293s\n",
      "Score array length:  300\n"
     ]
    }
   ],
   "source": [
    "start = time.time()\n",
    "mismatched_pairs_scores = get_mismatched_pairs_similarity_scores(mismatched_pairs)\n",
    "elapsed = time.time() - start\n",
    "\n",
    "print(f'Elapsed time: {int(elapsed)}s')\n",
    "print('Score array length: ', len(matched_pairs_scores))"
   ]
  },
  {
   "cell_type": "markdown",
   "id": "enclosed-czech",
   "metadata": {},
   "source": [
    "### Saving arrays into files\n",
    "so it's not necessary to make the same request everytime"
   ]
  },
  {
   "cell_type": "code",
   "execution_count": 46,
   "id": "innovative-solid",
   "metadata": {},
   "outputs": [],
   "source": [
    "array_file(matched_pairs_scores, 'matched_scores')\n",
    "array_file(mismatched_pairs_scores, 'mismatched_scores')"
   ]
  },
  {
   "cell_type": "markdown",
   "id": "changed-tiffany",
   "metadata": {},
   "source": [
    "### Loading array from files"
   ]
  },
  {
   "cell_type": "code",
   "execution_count": 51,
   "id": "legitimate-burden",
   "metadata": {},
   "outputs": [],
   "source": [
    "matched_scores_arr = np.loadtxt('matched_scores.txt')\n",
    "mismatched_scores_arr = np.loadtxt('mismatched_scores.txt')"
   ]
  },
  {
   "cell_type": "markdown",
   "id": "challenging-defeat",
   "metadata": {},
   "source": [
    "### False Rejection Rate (FRR)"
   ]
  },
  {
   "cell_type": "code",
   "execution_count": 53,
   "id": "intended-brand",
   "metadata": {},
   "outputs": [],
   "source": [
    "x_frr = []\n",
    "y_frr = []\n",
    "\n",
    "cp = len(matched_scores_arr) \n",
    "\n",
    "for x in range(20, 101):\n",
    "    fn = 0\n",
    "    for score in matched_scores_arr:\n",
    "        if score < x:\n",
    "            fn += 1\n",
    "\n",
    "    tp = cp - fn\n",
    "    fnr = fn / cp\n",
    "\n",
    "    frr = fnr * fn / (tp + fn)\n",
    "    x_frr.append(x)\n",
    "    y_frr.append(frr)"
   ]
  },
  {
   "cell_type": "code",
   "execution_count": 54,
   "id": "level-universal",
   "metadata": {
    "scrolled": true
   },
   "outputs": [
    {
     "data": {
      "text/plain": [
       "[<matplotlib.lines.Line2D at 0x2464f40ce20>]"
      ]
     },
     "execution_count": 54,
     "metadata": {},
     "output_type": "execute_result"
    },
    {
     "data": {
      "image/png": "[encoded data removed]",
      "text/plain": [
       "<Figure size 432x288 with 1 Axes>"
      ]
     },
     "metadata": {
      "needs_background": "light"
     },
     "output_type": "display_data"
    }
   ],
   "source": [
    "plt.plot(x_frr, y_frr, 'r')"
   ]
  },
  {
   "cell_type": "markdown",
   "id": "corrected-brooklyn",
   "metadata": {},
   "source": [
    "### False Acceptance Rate (FAR)"
   ]
  },
  {
   "cell_type": "code",
   "execution_count": 55,
   "id": "affiliated-washer",
   "metadata": {},
   "outputs": [],
   "source": [
    "x_far = []\n",
    "y_far = []\n",
    "\n",
    "cp = len(mismatched_scores_arr)\n",
    "\n",
    "for x in range(-100, -19):\n",
    "    fp = 0\n",
    "    for score in mismatched_scores_arr:\n",
    "        if score > x:\n",
    "            fp += 1\n",
    "    fpr = fp / cp\n",
    "    x_far.append(x)\n",
    "    y_far.append(fpr)"
   ]
  },
  {
   "cell_type": "code",
   "execution_count": 56,
   "id": "presidential-panic",
   "metadata": {},
   "outputs": [
    {
     "data": {
      "text/plain": [
       "[<matplotlib.lines.Line2D at 0x2464f0a2ac0>]"
      ]
     },
     "execution_count": 56,
     "metadata": {},
     "output_type": "execute_result"
    },
    {
     "data": {
      "image/png": "[encoded data removed]",
      "text/plain": [
       "<Figure size 432x288 with 1 Axes>"
      ]
     },
     "metadata": {
      "needs_background": "light"
     },
     "output_type": "display_data"
    }
   ],
   "source": [
    "plt.plot(x_far, y_far, 'g')"
   ]
  },
  {
   "cell_type": "markdown",
   "id": "streaming-oxygen",
   "metadata": {},
   "source": [
    "### FRR x FAR "
   ]
  },
  {
   "cell_type": "code",
   "execution_count": 57,
   "id": "understanding-fever",
   "metadata": {
    "scrolled": true
   },
   "outputs": [
    {
     "data": {
      "text/plain": [
       "[<matplotlib.lines.Line2D at 0x2464f3de310>,\n",
       " <matplotlib.lines.Line2D at 0x2464f3def70>]"
      ]
     },
     "execution_count": 57,
     "metadata": {},
     "output_type": "execute_result"
    },
    {
     "data": {
      "image/png": "[encoded data removed]",
      "text/plain": [
       "<Figure size 432x288 with 1 Axes>"
      ]
     },
     "metadata": {
      "needs_background": "light"
     },
     "output_type": "display_data"
    }
   ],
   "source": [
    "plt.plot(normalize(x_frr), normalize(y_frr), 'r', normalize(x_far), normalize(y_far), 'g')"
   ]
  },
  {
   "cell_type": "code",
   "execution_count": null,
   "id": "destroyed-marathon",
   "metadata": {},
   "outputs": [],
   "source": []
  },
  {
   "cell_type": "code",
   "execution_count": null,
   "id": "anonymous-tuning",
   "metadata": {},
   "outputs": [],
   "source": []
  },
  {
   "cell_type": "code",
   "execution_count": null,
   "id": "threatened-procurement",
   "metadata": {},
   "outputs": [],
   "source": []
  }
 ],
 "metadata": {
  "kernelspec": {
   "display_name": "Python 3",
   "language": "python",
   "name": "python3"
  },
  "language_info": {
   "codemirror_mode": {
    "name": "ipython",
    "version": 3
   },
   "file_extension": ".py",
   "mimetype": "text/x-python",
   "name": "python",
   "nbconvert_exporter": "python",
   "pygments_lexer": "ipython3",
   "version": "3.9.1"
  }
 },
 "nbformat": 4,
 "nbformat_minor": 5
}
