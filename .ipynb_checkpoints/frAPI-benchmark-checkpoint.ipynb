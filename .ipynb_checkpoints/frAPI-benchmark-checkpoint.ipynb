{
 "cells": [
  {
   "cell_type": "markdown",
   "id": "medical-genius",
   "metadata": {},
   "source": [
    "# Techcore Experience\n",
    "\n",
    "---\n",
    "\n",
    "## frAPI Benchmark"
   ]
  },
  {
   "cell_type": "code",
   "execution_count": 68,
   "id": "recorded-affect",
   "metadata": {},
   "outputs": [],
   "source": [
    "import glob\n",
    "import base64\n",
    "import asyncio\n",
    "import numpy as np\n",
    "import requests as req\n",
    "from pathlib import Path\n",
    "import matplotlib.pyplot as plt"
   ]
  },
  {
   "cell_type": "markdown",
   "id": "gross-liability",
   "metadata": {},
   "source": [
    "### Checking connection status from frAPI"
   ]
  },
  {
   "cell_type": "code",
   "execution_count": 30,
   "id": "occasional-observation",
   "metadata": {},
   "outputs": [
    {
     "name": "stdout",
     "output_type": "stream",
     "text": [
      "{'prediction': {'info': '', 'status': 'ok'}}\n"
     ]
    }
   ],
   "source": [
    "resp = req.get('http://35.237.84.73/frapi/status')\n",
    "print(resp.json())"
   ]
  },
  {
   "cell_type": "markdown",
   "id": "floating-christopher",
   "metadata": {},
   "source": [
    "### Checking dataset directory"
   ]
  },
  {
   "cell_type": "code",
   "execution_count": 31,
   "id": "loved-thumbnail",
   "metadata": {},
   "outputs": [
    {
     "name": "stdout",
     "output_type": "stream",
     "text": [
      "13233\n"
     ]
    }
   ],
   "source": [
    "dataset = glob.glob('dataset/*/*.jpg')\n",
    "\n",
    "img_count = len(list(dataset))\n",
    "print(img_count)"
   ]
  },
  {
   "cell_type": "markdown",
   "id": "surface-level",
   "metadata": {},
   "source": [
    "---\n",
    "#  Defining functions used"
   ]
  },
  {
   "cell_type": "code",
   "execution_count": 4,
   "id": "imposed-certificate",
   "metadata": {},
   "outputs": [],
   "source": [
    "def get_base64(image_path):\n",
    "    with open(image_path, 'rb') as img_file:\n",
    "        return base64.b64encode(img_file.read()).decode('utf-8')"
   ]
  },
  {
   "cell_type": "code",
   "execution_count": 91,
   "id": "intimate-three",
   "metadata": {},
   "outputs": [],
   "source": [
    "def image_num(id):\n",
    "    num = int(id)\n",
    "    if num < 10:\n",
    "        return f'000{num}'\n",
    "    elif num < 100:\n",
    "        return f'00{num}'\n",
    "    else:\n",
    "        return num"
   ]
  },
  {
   "cell_type": "code",
   "execution_count": 92,
   "id": "cheap-andrew",
   "metadata": {},
   "outputs": [],
   "source": [
    "def img_name(name, id):\n",
    "    return f'{name}_{image_num(id)}.jpg'"
   ]
  },
  {
   "cell_type": "code",
   "execution_count": 85,
   "id": "spread-nurse",
   "metadata": {},
   "outputs": [],
   "source": [
    "def img_path_pair(pair):\n",
    "    first_name = img_name(pair[0], pair[1])\n",
    "    second_name = img_name(pair[0], pair[2])\n",
    "    \n",
    "    first_path = pathlib.Path(Path('dataset'), pair[0], first_name)\n",
    "    second_path = pathlib.Path(Path('dataset'), pair[0], second_name)\n",
    "    \n",
    "    return first_path, second_path"
   ]
  },
  {
   "cell_type": "markdown",
   "id": "preceding-recall",
   "metadata": {},
   "source": [
    "### Defining data_dir and testing api request"
   ]
  },
  {
   "cell_type": "code",
   "execution_count": 93,
   "id": "intimate-tablet",
   "metadata": {},
   "outputs": [
    {
     "name": "stdout",
     "output_type": "stream",
     "text": [
      "-100.0\n"
     ]
    }
   ],
   "source": [
    "req_body = {\n",
    "    'image_b641': get_base64(pathlib.Path(data_dir, 'Aaron_Sorkin', 'Aaron_Sorkin_0001.jpg')),\n",
    "    'image_b642': get_base64(pathlib.Path(data_dir, 'Aaron_Tippin', 'Aaron_Tippin_0001.jpg')),\n",
    "}\n",
    "\n",
    "resp = req.post('http://35.237.84.73/frapi/verify/images', json = req_body)\n",
    "\n",
    "print(resp.json()['similarity_score'])"
   ]
  },
  {
   "cell_type": "markdown",
   "id": "respective-point",
   "metadata": {},
   "source": []
  },
  {
   "cell_type": "code",
   "execution_count": 77,
   "id": "wrapped-liquid",
   "metadata": {},
   "outputs": [],
   "source": [
    "matched_pairs = np.loadtxt(Path('matched_pairs.txt'), dtype='str')\n",
    "mismatched_pairs = np.loadtxt(Path('mismatched_pairs.txt'), dtype='str')"
   ]
  },
  {
   "cell_type": "code",
   "execution_count": 90,
   "id": "trained-firewall",
   "metadata": {},
   "outputs": [],
   "source": [
    "async def get_matched_pairs_similarity_scores:\n",
    "    for pair in matched_pairs:\n",
    "        first_path, second_path = img_path_pair(pair)\n",
    "\n",
    "        req_body = {\n",
    "            'image_b641': get_base64(first_path),\n",
    "            'image_b642': get_base64(second_path),\n",
    "        }\n",
    "\n",
    "        resp = await req.post('http://35.237.84.73/frapi/verify/images', json = req_body)\n",
    "        "
   ]
  },
  {
   "cell_type": "code",
   "execution_count": null,
   "id": "dying-provision",
   "metadata": {},
   "outputs": [],
   "source": []
  }
 ],
 "metadata": {
  "kernelspec": {
   "display_name": "Python 3",
   "language": "python",
   "name": "python3"
  },
  "language_info": {
   "codemirror_mode": {
    "name": "ipython",
    "version": 3
   },
   "file_extension": ".py",
   "mimetype": "text/x-python",
   "name": "python",
   "nbconvert_exporter": "python",
   "pygments_lexer": "ipython3",
   "version": "3.9.1"
  }
 },
 "nbformat": 4,
 "nbformat_minor": 5
}
