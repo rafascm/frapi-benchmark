{
 "cells": [
  {
   "cell_type": "markdown",
   "id": "medical-genius",
   "metadata": {},
   "source": [
    "# Techcore Experience\n",
    "\n",
    "---\n",
    "\n",
    "## frAPI Benchmark"
   ]
  },
  {
   "cell_type": "code",
   "execution_count": 19,
   "id": "recorded-affect",
   "metadata": {},
   "outputs": [],
   "source": [
    "import time\n",
    "import glob\n",
    "import base64\n",
    "import asyncio\n",
    "import numpy as np\n",
    "import requests as req\n",
    "from pathlib import Path\n",
    "import matplotlib.pyplot as plt"
   ]
  },
  {
   "cell_type": "markdown",
   "id": "gross-liability",
   "metadata": {},
   "source": [
    "### Checking connection status from frAPI"
   ]
  },
  {
   "cell_type": "code",
   "execution_count": 18,
   "id": "occasional-observation",
   "metadata": {},
   "outputs": [
    {
     "name": "stdout",
     "output_type": "stream",
     "text": [
      "<Response [200]>\n"
     ]
    }
   ],
   "source": [
    "resp = req.get('http://35.237.84.73/frapi/status')\n",
    "print(resp)"
   ]
  },
  {
   "cell_type": "markdown",
   "id": "removed-seafood",
   "metadata": {},
   "source": [
    "---\n",
    "#  Defining functions"
   ]
  },
  {
   "cell_type": "code",
   "execution_count": 4,
   "id": "colored-officer",
   "metadata": {},
   "outputs": [],
   "source": [
    "def get_base64(image_path):\n",
    "    with open(image_path, 'rb') as img_file:\n",
    "        return base64.b64encode(img_file.read()).decode('utf-8')"
   ]
  },
  {
   "cell_type": "code",
   "execution_count": 5,
   "id": "minimal-selection",
   "metadata": {},
   "outputs": [],
   "source": [
    "def image_num(id):\n",
    "    num = int(id)\n",
    "    if num < 10:\n",
    "        return f'000{num}'\n",
    "    elif num < 100:\n",
    "        return f'00{num}'\n",
    "    else:\n",
    "        return num"
   ]
  },
  {
   "cell_type": "code",
   "execution_count": 6,
   "id": "independent-caution",
   "metadata": {},
   "outputs": [],
   "source": [
    "def img_name(name, id):\n",
    "    return f'{name}_{image_num(id)}.jpg'"
   ]
  },
  {
   "cell_type": "code",
   "execution_count": 7,
   "id": "dimensional-equity",
   "metadata": {},
   "outputs": [],
   "source": [
    "def img_path_pair(pair):\n",
    "    first_name = img_name(pair[0], pair[1])\n",
    "    second_name = img_name(pair[0], pair[2])\n",
    "    \n",
    "    first_path = Path(Path('dataset'), pair[0], first_name)\n",
    "    second_path = Path(Path('dataset'), pair[0], second_name)\n",
    "    \n",
    "    return first_path, second_path"
   ]
  },
  {
   "cell_type": "code",
   "execution_count": 20,
   "id": "together-protocol",
   "metadata": {},
   "outputs": [],
   "source": [
    "def get_matched_pairs_similarity_scores(matched_pairs):\n",
    "    scores = []\n",
    "    \n",
    "    print('Loading...')\n",
    "    \n",
    "    for pair in matched_pairs:\n",
    "        first_path, second_path = img_path_pair(pair)\n",
    "\n",
    "        req_body = {\n",
    "            'image_b641': get_base64(first_path),\n",
    "            'image_b642': get_base64(second_path),\n",
    "        }\n",
    "\n",
    "        resp = req.post('http://35.237.84.73/frapi/verify/images', json = req_body)\n",
    "        scores.append(resp.json()['similarity_score'])\n",
    "    \n",
    "    print('Done...')\n",
    "    return scores"
   ]
  },
  {
   "cell_type": "markdown",
   "id": "offensive-attachment",
   "metadata": {},
   "source": [
    "### Loading arrays"
   ]
  },
  {
   "cell_type": "code",
   "execution_count": 9,
   "id": "after-verse",
   "metadata": {},
   "outputs": [],
   "source": [
    "matched_pairs = np.loadtxt(Path('matched_pairs.txt'), dtype='str')\n",
    "mismatched_pairs = np.loadtxt(Path('mismatched_pairs.txt'), dtype='str')"
   ]
  },
  {
   "cell_type": "markdown",
   "id": "residential-provider",
   "metadata": {},
   "source": [
    "It takes around 5min to complete all 300 requests and populate ***matched_pairs_scores*** array"
   ]
  },
  {
   "cell_type": "code",
   "execution_count": 23,
   "id": "incorrect-growth",
   "metadata": {},
   "outputs": [
    {
     "name": "stdout",
     "output_type": "stream",
     "text": [
      "Loading...\n",
      "Done...\n",
      "Elapsed time: 277s\n",
      "Score array length:  300\n"
     ]
    }
   ],
   "source": [
    "start = time.time()\n",
    "matched_pairs_scores = get_matched_pairs_similarity_scores(matched_pairs)\n",
    "elapsed = time.time() - start\n",
    "\n",
    "print(f'Elapsed time: {int(elapsed)}s')\n",
    "print('Score array length: ', len(matched_pairs_scores))"
   ]
  },
  {
   "cell_type": "code",
   "execution_count": null,
   "id": "matched-shelter",
   "metadata": {},
   "outputs": [],
   "source": [
    "for score in matched_pairs_scores:\n",
    "    if score < 50 and"
   ]
  }
 ],
 "metadata": {
  "kernelspec": {
   "display_name": "Python 3",
   "language": "python",
   "name": "python3"
  },
  "language_info": {
   "codemirror_mode": {
    "name": "ipython",
    "version": 3
   },
   "file_extension": ".py",
   "mimetype": "text/x-python",
   "name": "python",
   "nbconvert_exporter": "python",
   "pygments_lexer": "ipython3",
   "version": "3.9.1"
  }
 },
 "nbformat": 4,
 "nbformat_minor": 5
}
